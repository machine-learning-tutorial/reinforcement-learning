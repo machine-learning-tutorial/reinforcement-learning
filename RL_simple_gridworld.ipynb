{
 "cells": [
  {
   "cell_type": "code",
   "execution_count": 1,
   "metadata": {},
   "outputs": [],
   "source": [
    "import itertools\n",
    "import numpy as np\n",
    "import os\n",
    "import random\n",
    "import time\n",
    "import matplotlib.pyplot as plt\n",
    "import matplotlib.animation\n",
    "import subprocess\n",
    "from sympy import *\n",
    "from sympy.solvers import solve\n",
    "from sympy.solvers import nsolve\n",
    "from sympy import Symbol\n",
    "from tqdm import tqdm"
   ]
  },
  {
   "cell_type": "code",
   "execution_count": 2,
   "metadata": {},
   "outputs": [],
   "source": [
    "%matplotlib inline"
   ]
  },
  {
   "cell_type": "markdown",
   "metadata": {},
   "source": [
    "Simple gridworld example (no ML libraries)\n",
    "========"
   ]
  },
  {
   "cell_type": "markdown",
   "metadata": {},
   "source": [
    "# Introduction\n",
    "* In reinforcement learning the agent moves around influencing the environment it finds itself in with the actions it can take, which in turn affects the subsequent data it receives.\n",
    "* Reinforcement learning does not train on a static set of data. It works on a dynamic system where time matters.\n",
    "* You see how the decisions unfold over time.\n",
    "* The agent is solely influenced by a reward signal."
   ]
  },
  {
   "cell_type": "markdown",
   "metadata": {},
   "source": [
    "## Agent and reward\n",
    "The **reward hypothesis** states that all goals can be described by the maximization of expected cumulative reward.\n",
    "* **Reward**: scalar feedback signal, a number $R_t$ (any number). The cumulative reward indicates how well the agent is doing at step $t$.\n",
    "* **Goal**: select actions to maximize total future cumulative reward."
   ]
  },
  {
   "cell_type": "markdown",
   "metadata": {},
   "source": [
    "# Defining the gridworld environment\n",
    "A **\"gridworld\"** is a common reinforcement learning example due to its simplicity. It just consists of a 2D grid where the agent can move. \n",
    "Let's consider 4 actions:\n",
    "\n",
    "\\begin{equation}\n",
    "    \\mathcal{A} = [\\text{up, down, right, left}]\n",
    "\\end{equation}\n",
    "\n",
    "where $\\mathcal{A}$ a finite set of actions."
   ]
  },
  {
   "cell_type": "code",
   "execution_count": 3,
   "metadata": {},
   "outputs": [],
   "source": [
    "# For now this is just a couple of strings. They will take their meaning further down with the \"step\" function.\n",
    "actions = [\"up\", \"down\", \"left\", \"right\"]"
   ]
  },
  {
   "cell_type": "markdown",
   "metadata": {},
   "source": [
    "## Reward in the gridworld example\n",
    "\n",
    "The goal of the agent is to get from the **start state** to the **stop state** as fast as possible. \n"
   ]
  },
  {
   "cell_type": "markdown",
   "metadata": {},
   "source": [
    "* The reward of any state (except for the stop state) will be -1. \n",
    "    * If the reward is positive in every step, the agent would just randomly walk accumulating reward. With a negative reward it penalizes every step not taken in the right direction. \n",
    "* The final state has a reward of 1.\n",
    "* In order to create a single fastest path and reduce the complexity of the system, we can position blocks in our grid."
   ]
  },
  {
   "cell_type": "code",
   "execution_count": 4,
   "metadata": {
    "code_folding": [
     4
    ]
   },
   "outputs": [],
   "source": [
    "reward_normal = -1\n",
    "reward_stop = 1\n",
    "\n",
    "\n",
    "def get_reward(state):\n",
    "    if state == stop:\n",
    "        return reward_stop\n",
    "    else:\n",
    "        return reward_normal"
   ]
  },
  {
   "cell_type": "markdown",
   "metadata": {},
   "source": [
    "# Create your gridworld\n",
    "Write below the dimensions of the gridworld and the position of the blocks. You will see it plotted in the \"state grid\" section below."
   ]
  },
  {
   "cell_type": "code",
   "execution_count": 5,
   "metadata": {},
   "outputs": [],
   "source": [
    "# INPUT FROM USER\n",
    "# ---------------\n",
    "\n",
    "rows = 4\n",
    "columns = 4\n",
    "\n",
    "# blocks = [13, 14, 15, 24, 25, 2, 3, 23]\n",
    "blocks = [2, 9, 11, 13]  # 4x4"
   ]
  },
  {
   "cell_type": "code",
   "execution_count": 6,
   "metadata": {},
   "outputs": [],
   "source": [
    "# The agent will start in state \"0\" and will consider the episode is over when it reaches the last state.\n",
    "start = 0\n",
    "stop = rows * columns - 1"
   ]
  },
  {
   "cell_type": "code",
   "execution_count": 7,
   "metadata": {
    "code_folding": [
     0
    ]
   },
   "outputs": [],
   "source": [
    "def plot_gridworld(rows, columns, blocks, labels):\n",
    "    counter_columns = -1\n",
    "    counter_rows = 0\n",
    "\n",
    "    row_grid_color = []\n",
    "    all_states_grid_color = np.zeros([rows, columns])\n",
    "\n",
    "    row_grid = []\n",
    "    all_states_grid = np.zeros([rows, columns], dtype=int)\n",
    "\n",
    "    row_grid_reward = []\n",
    "    all_states_grid_reward = np.zeros([rows, columns], dtype=int)\n",
    "\n",
    "    for s in range(0, rows * columns):\n",
    "        counter_columns += 1\n",
    "        if counter_columns < columns - 1:\n",
    "            row_grid.append(s)\n",
    "            if s in blocks:\n",
    "                row_grid_color.append(0)\n",
    "                row_grid_reward.append(66)\n",
    "            else:\n",
    "                row_grid_reward.append(get_reward(s))\n",
    "                row_grid_color.append(0.5)\n",
    "        else:\n",
    "            row_grid.append(s)\n",
    "            if s in blocks:\n",
    "                row_grid_color.append(0)\n",
    "                row_grid_reward.append(66)\n",
    "            else:\n",
    "                row_grid_reward.append(get_reward(s))\n",
    "                row_grid_color.append(0.5)\n",
    "\n",
    "            all_states_grid[counter_rows] = row_grid\n",
    "            all_states_grid_color[counter_rows] = row_grid_color\n",
    "            all_states_grid_reward[counter_rows] = row_grid_reward\n",
    "\n",
    "            row_grid = []\n",
    "            row_grid_color = []\n",
    "            row_grid_reward = []\n",
    "\n",
    "            counter_columns = -1\n",
    "            counter_rows += 1\n",
    "\n",
    "    fig, ax = plt.subplots(figsize=(7, 5))\n",
    "    ax.imshow(\n",
    "        all_states_grid_color,\n",
    "        extent=[0, columns, rows, 0],\n",
    "        cmap=\"viridis\",\n",
    "        vmin=0,\n",
    "        vmax=1,\n",
    "    )\n",
    "\n",
    "    ax.grid(color=\"black\", linestyle=\"-\", linewidth=5)\n",
    "    ax.xaxis.set_ticklabels([])\n",
    "    ax.xaxis.set_ticks_position(\"none\")\n",
    "    ax.yaxis.set_ticklabels([])\n",
    "    ax.yaxis.set_ticks_position(\"none\")\n",
    "\n",
    "    ax.set_xticks(np.arange(0, columns, step=1))\n",
    "    ax.set_yticks(np.arange(0, rows, step=1))\n",
    "\n",
    "    if labels == \"states\":\n",
    "        for i in range(0, rows):\n",
    "            for j in range(0, columns):\n",
    "                text = ax.text(\n",
    "                    j + 0.15,\n",
    "                    i + 0.15,\n",
    "                    all_states_grid[i, j],\n",
    "                    ha=\"left\",\n",
    "                    va=\"top\",\n",
    "                    color=\"w\",\n",
    "                    size=15,\n",
    "                )\n",
    "    elif labels == \"rewards\":\n",
    "        for i in range(0, rows):\n",
    "            for j in range(0, columns):\n",
    "                if all_states_grid_reward[i, j] != 66:\n",
    "                    text = ax.text(\n",
    "                        j + 0.4,\n",
    "                        i + 0.4,\n",
    "                        all_states_grid_reward[i, j],\n",
    "                        ha=\"left\",\n",
    "                        va=\"top\",\n",
    "                        color=\"w\",\n",
    "                        size=15,\n",
    "                    )\n",
    "    plt.show()\n",
    "    return all_states_grid"
   ]
  },
  {
   "cell_type": "markdown",
   "metadata": {},
   "source": [
    "## Available states"
   ]
  },
  {
   "cell_type": "code",
   "execution_count": 8,
   "metadata": {
    "code_folding": [
     0
    ]
   },
   "outputs": [],
   "source": [
    "def get_states(rows, columns, blocks):\n",
    "    states = list(np.linspace(0, rows * columns - 1, rows * columns))\n",
    "    for b in blocks:\n",
    "        states.remove(b)\n",
    "    return states"
   ]
  },
  {
   "cell_type": "code",
   "execution_count": 9,
   "metadata": {},
   "outputs": [
    {
     "name": "stdout",
     "output_type": "stream",
     "text": [
      "S = [np.float64(0.0), np.float64(1.0), np.float64(3.0), np.float64(4.0), np.float64(5.0), np.float64(6.0), np.float64(7.0), np.float64(8.0), np.float64(10.0), np.float64(12.0), np.float64(14.0), np.float64(15.0)]\n"
     ]
    }
   ],
   "source": [
    "states = get_states(rows, columns, blocks)\n",
    "print(\"S =\", states)"
   ]
  },
  {
   "cell_type": "markdown",
   "metadata": {},
   "source": [
    "## State grid"
   ]
  },
  {
   "cell_type": "code",
   "execution_count": 10,
   "metadata": {
    "code_folding": []
   },
   "outputs": [
    {
     "data": {
      "image/png": "[encoded data removed]",
      "text/plain": [
       "<Figure size 700x500 with 1 Axes>"
      ]
     },
     "metadata": {},
     "output_type": "display_data"
    }
   ],
   "source": [
    "# Run this cell to automatically generate the gridworld with the correspondent states and blocks\n",
    "all_states_grid = plot_gridworld(rows, columns, blocks, \"states\")"
   ]
  },
  {
   "cell_type": "markdown",
   "metadata": {},
   "source": [
    "## Reward grid"
   ]
  },
  {
   "cell_type": "code",
   "execution_count": 11,
   "metadata": {
    "code_folding": []
   },
   "outputs": [
    {
     "data": {
      "image/png": "[encoded data removed]",
      "text/plain": [
       "<Figure size 700x500 with 1 Axes>"
      ]
     },
     "metadata": {},
     "output_type": "display_data"
    }
   ],
   "source": [
    "# Run this cell to automatically generate the gridworld with the correspondent rewards\n",
    "all_states_grid = plot_gridworld(rows, columns, blocks, \"rewards\")"
   ]
  },
  {
   "cell_type": "markdown",
   "metadata": {},
   "source": [
    "## Environment"
   ]
  },
  {
   "cell_type": "code",
   "execution_count": 12,
   "metadata": {
    "code_folding": [
     0
    ]
   },
   "outputs": [],
   "source": [
    "# Functions that define the environment\n",
    "# https://stackoverflow.com/questions/48135736/what-is-an-intuitive-explanation-of-np-unravel-index\n",
    "\n",
    "\n",
    "def get_key(my_dict, val):\n",
    "    for key, value in my_dict.items():\n",
    "        if val == value:\n",
    "            return key\n",
    "\n",
    "    return \"key doesn't exist\"\n",
    "\n",
    "\n",
    "def get_grid_indices(rows, columns):\n",
    "    indices = []\n",
    "    for r in range(0, rows):\n",
    "        for c in range(0, columns):\n",
    "            indices.append((r, c))\n",
    "    state_index = {}\n",
    "    for s, i in enumerate(indices):\n",
    "        state_index[s] = i\n",
    "    return state_index\n",
    "\n",
    "\n",
    "def step(state, action, state_index, all_states_grid):\n",
    "    if action == \"up\":  # if you want to move up\n",
    "        if state in all_states_grid[0]:  # and you are in the top row\n",
    "            new_state_index = (\n",
    "                state_index[state][0],\n",
    "                state_index[state][1],\n",
    "            )  # you stay where you are\n",
    "        else:\n",
    "            new_state_index = (state_index[state][0] - 1, state_index[state][1])\n",
    "\n",
    "    elif action == \"down\":  # if you want to move down\n",
    "        if state in all_states_grid[rows - 1]:  # and you are in the bottom row\n",
    "            new_state_index = (\n",
    "                state_index[state][0],\n",
    "                state_index[state][1],\n",
    "            )  # you stay where you are\n",
    "        else:\n",
    "            new_state_index = (state_index[state][0] + 1, state_index[state][1])\n",
    "\n",
    "    elif action == \"right\":  # if you want to move right\n",
    "        if state in all_states_grid[:, columns - 1]:  # and you are in the right column\n",
    "            new_state_index = (\n",
    "                state_index[state][0],\n",
    "                state_index[state][1],\n",
    "            )  # you stay where you are\n",
    "        else:\n",
    "            new_state_index = (state_index[state][0], state_index[state][1] + 1)\n",
    "\n",
    "    elif action == \"left\":  # if you want to move left\n",
    "        if state in all_states_grid[:, 0]:  # and you are in the left column\n",
    "            new_state_index = (\n",
    "                state_index[state][0],\n",
    "                state_index[state][1],\n",
    "            )  # you stay where you are\n",
    "        else:\n",
    "            new_state_index = (state_index[state][0], state_index[state][1] - 1)\n",
    "\n",
    "    new_state = get_key(state_index, new_state_index)\n",
    "\n",
    "    if new_state in blocks:\n",
    "        new_state = state\n",
    "\n",
    "    return new_state"
   ]
  },
  {
   "cell_type": "markdown",
   "metadata": {},
   "source": [
    "* We mapped each numerical state to a matrix notation form to apply the actions in an easier way:"
   ]
  },
  {
   "cell_type": "code",
   "execution_count": 13,
   "metadata": {},
   "outputs": [
    {
     "name": "stdout",
     "output_type": "stream",
     "text": [
      "{0: (0, 0), 1: (0, 1), 2: (0, 2), 3: (0, 3), 4: (1, 0), 5: (1, 1), 6: (1, 2), 7: (1, 3), 8: (2, 0), 9: (2, 1), 10: (2, 2), 11: (2, 3), 12: (3, 0), 13: (3, 1), 14: (3, 2), 15: (3, 3)}\n"
     ]
    }
   ],
   "source": [
    "state_index = get_grid_indices(rows, columns)\n",
    "print(state_index)"
   ]
  },
  {
   "cell_type": "markdown",
   "metadata": {},
   "source": [
    "* We embedded the gridworld limits and blocks into the \"step\" function:"
   ]
  },
  {
   "cell_type": "code",
   "execution_count": 14,
   "metadata": {},
   "outputs": [
    {
     "name": "stdout",
     "output_type": "stream",
     "text": [
      "15\n"
     ]
    }
   ],
   "source": [
    "print(step(stop, \"right\", state_index, all_states_grid))"
   ]
  },
  {
   "cell_type": "markdown",
   "metadata": {},
   "source": [
    "# Policy\n",
    "A policy $\\pi$ defines how the agent picks its actions, how it will take exploratory decisions. In other words: \n",
    "* It's a mapping from states to probabilities of selecting each possible action.\n",
    "* It's the probability of taking a specific action $a$ by being in a specific state $s$ is given by the policy $\\pi$.\n",
    "\n",
    "\\begin{equation}\n",
    "    \\pi(a|s) = \\mathbb{P}[\\mathcal{A_t}=a|\\mathcal{S_t}=s]\n",
    "\\end{equation}\n",
    "\n",
    "In this case we will choose a stochastic equiprobable policy, i.e. there is the same probabilty that the agent will take any of the actions for any state."
   ]
  },
  {
   "cell_type": "code",
   "execution_count": 15,
   "metadata": {},
   "outputs": [],
   "source": [
    "def get_policy(actions):\n",
    "    policy = {}\n",
    "    for a in actions:\n",
    "        policy[a] = 1 / len(actions)\n",
    "    return policy"
   ]
  },
  {
   "cell_type": "code",
   "execution_count": 16,
   "metadata": {},
   "outputs": [
    {
     "name": "stdout",
     "output_type": "stream",
     "text": [
      "{'up': 0.25, 'down': 0.25, 'left': 0.25, 'right': 0.25}\n"
     ]
    }
   ],
   "source": [
    "policy = get_policy(actions)\n",
    "print(policy)"
   ]
  },
  {
   "cell_type": "markdown",
   "metadata": {},
   "source": [
    "# Observing an agent following an equiprobable random policy\n",
    "## One episode\n",
    "If we make the agent follow the equiprobable random policy defined above in a 4x4 gridworld, a random episode would look like the animation shown below. You can see that this policy is very inefficient, since the minimum number of steps to reach the final state (6 steps) is much lower than following an equiprobable policy. The good part is that it can be easily improved upon.\n",
    "* In the example we are tackling the cumulated reward will be equal to the number of steps - 1 (because of the final reward of +1 in the final state), times -1"
   ]
  },
  {
   "cell_type": "markdown",
   "metadata": {},
   "source": [
    "![](images/RandomAgent4x4.gif)"
   ]
  },
  {
   "cell_type": "code",
   "execution_count": 17,
   "metadata": {
    "code_folding": [
     0,
     1,
     94,
     107,
     117
    ]
   },
   "outputs": [],
   "source": [
    "# Functions to explore the environment\n",
    "def plot_gridworld_and_agent(\n",
    "    rows, columns, blocks, state, fig, ax, steps, reward, save=\"no\"\n",
    "):\n",
    "    counter_columns = -1\n",
    "    counter_rows = 0\n",
    "\n",
    "    row_grid_color = []\n",
    "    all_states_grid_color = np.zeros([rows, columns])\n",
    "\n",
    "    row_grid = []\n",
    "    all_states_grid = np.zeros([rows, columns], dtype=int)\n",
    "\n",
    "    # Getting the data\n",
    "    for s in range(0, rows * columns):\n",
    "        counter_columns += 1\n",
    "        if counter_columns < columns - 1:\n",
    "            row_grid.append(s)\n",
    "            if s in blocks:\n",
    "                row_grid_color.append(0)\n",
    "            elif s == state:\n",
    "                row_grid_color.append(1)\n",
    "            else:\n",
    "                row_grid_color.append(0.5)\n",
    "        else:\n",
    "            row_grid.append(s)\n",
    "            if s in blocks:\n",
    "                row_grid_color.append(0)\n",
    "            elif s == state:\n",
    "                row_grid_color.append(1)\n",
    "            else:\n",
    "                row_grid_color.append(0.5)\n",
    "\n",
    "            all_states_grid[counter_rows] = row_grid\n",
    "            all_states_grid_color[counter_rows] = row_grid_color\n",
    "\n",
    "            row_grid = []\n",
    "            row_grid_color = []\n",
    "\n",
    "            counter_columns = -1\n",
    "            counter_rows += 1\n",
    "\n",
    "    # Plotting the data\n",
    "    ax.imshow(\n",
    "        all_states_grid_color,\n",
    "        extent=[0, columns, rows, 0],\n",
    "        cmap=\"viridis\",\n",
    "        vmin=0,\n",
    "        vmax=1,\n",
    "    )\n",
    "\n",
    "    ax.grid(color=\"black\", linestyle=\"-\", linewidth=5)\n",
    "    ax.xaxis.set_ticklabels([])\n",
    "    ax.xaxis.set_ticks_position(\"none\")\n",
    "    ax.yaxis.set_ticklabels([])\n",
    "    ax.yaxis.set_ticks_position(\"none\")\n",
    "\n",
    "    ax.set_xticks(np.arange(0, columns, step=1))\n",
    "    ax.set_yticks(np.arange(0, rows, step=1))\n",
    "\n",
    "    ax.set_title(\"Random policy       Steps=\" + str(steps), fontsize=14)\n",
    "\n",
    "    for i in range(0, rows):\n",
    "        for j in range(0, columns):\n",
    "            text = ax.text(\n",
    "                j + 0.15,\n",
    "                i + 0.15,\n",
    "                all_states_grid[i, j],\n",
    "                ha=\"left\",\n",
    "                va=\"top\",\n",
    "                color=\"w\",\n",
    "                size=15,\n",
    "            )\n",
    "\n",
    "    fig.canvas.draw()\n",
    "\n",
    "    if save == \"yes\":\n",
    "\n",
    "        #         To save the file and convert it to GIF ----------------------------\n",
    "\n",
    "        if len(str(steps)) == 1:\n",
    "            steps = \"00\" + str(steps)\n",
    "        elif len(str(steps)) == 2:\n",
    "            steps = \"0\" + str(steps)\n",
    "\n",
    "        filename = \"RandomPolicyAgent_\" + str(steps) + \".png\"\n",
    "\n",
    "        if os.path.exists(filename):\n",
    "            os.remove(filename)\n",
    "\n",
    "        plt.tight_layout()\n",
    "        #         plt.subplots_adjust(right=0.85)\n",
    "        plt.savefig(filename, bbox=\"tight\")\n",
    "\n",
    "\n",
    "#         convert -delay 10 -loop 0 Random*png RandomAgent.gif\n",
    "\n",
    "#         --------------------------------------------------------------------\n",
    "\n",
    "\n",
    "def take_step_finite(state, number_steps, state_index, all_states_grid):\n",
    "    reward = get_reward(state)\n",
    "    print(\n",
    "        \"{0:<15} {1:<15} {2:<15} {3:<15}\".format(\n",
    "            \"State\", \"Action\", \"New State\", \"Cumulated Reward\"\n",
    "        )\n",
    "    )\n",
    "    print(\"-----------------------------------------------------------------\")\n",
    "    for st in range(1, number_steps + 1):\n",
    "        action = np.random.choice(\n",
    "            actions, p=[policy[actions[i]] for i in range(0, len(actions))]\n",
    "        )\n",
    "        new_state = step(state, action, state_index, all_states_grid)\n",
    "        reward += get_reward(new_state)\n",
    "        print(\n",
    "            \"{0:<15} {1:<15} {2:<15} {3:<15}\".format(state, action, new_state, reward)\n",
    "        )\n",
    "        state = new_state\n",
    "\n",
    "\n",
    "def take_one_step(state, state_index, all_states_grid):\n",
    "    action = np.random.choice(\n",
    "        actions, p=[policy[actions[i]] for i in range(0, len(actions))]\n",
    "    )\n",
    "    new_state = step(state, action, state_index, all_states_grid)\n",
    "    reward = get_reward(new_state)\n",
    "\n",
    "    #     reward += get_reward(new_state)\n",
    "    return state, action, new_state, reward\n",
    "\n",
    "\n",
    "def random_exploration(start, stop, state_index, length=0, save=\"no\"):\n",
    "    steps = 0\n",
    "    reward_tot = get_reward(start)\n",
    "    state = start\n",
    "\n",
    "    fig, ax = plt.subplots(figsize=(7, 5))\n",
    "\n",
    "    while state != stop:\n",
    "        old_state, action, new_state, reward = take_one_step(\n",
    "            state, state_index, all_states_grid\n",
    "        )\n",
    "        steps += 1\n",
    "        reward_tot += reward\n",
    "        plot_gridworld_and_agent(\n",
    "            rows, columns, blocks, state, fig, ax, steps, reward_tot, save\n",
    "        )\n",
    "        state = new_state\n",
    "        #         time.sleep(0.1)\n",
    "\n",
    "        if length != 0:\n",
    "            if steps >= length:\n",
    "                break\n",
    "\n",
    "    print(\" \")\n",
    "    print(\"This episode took\", steps, \"steps, with\", reward_tot, \"of reward\")\n",
    "\n",
    "    if save == \"yes\":\n",
    "        subprocess.call(\n",
    "            [\"convert\", \"-delay\", \"10\", \"-loop\", \"0\", \"Random*png\", \"RandomAgent.gif\"]\n",
    "        )"
   ]
  },
  {
   "cell_type": "markdown",
   "metadata": {},
   "source": [
    "## Try the function yourself in your gridworld\n",
    "* Run the next cell to see how far the agent gets in 30 steps by randomly exploring the gridworld environment you created."
   ]
  },
  {
   "cell_type": "code",
   "execution_count": 18,
   "metadata": {
    "scrolled": false
   },
   "outputs": [
    {
     "data": {
      "application/javascript": "/* Put everything inside the global mpl namespace */\n/* global mpl */\nwindow.mpl = {};\n\nmpl.get_websocket_type = function () {\n    if (typeof WebSocket !== 'undefined') {\n        return WebSocket;\n    } else if (typeof MozWebSocket !== 'undefined') {\n        return MozWebSocket;\n    } else {\n        alert(\n            'Your browser does not have WebSocket support. ' +\n                'Please try Chrome, Safari or Firefox ≥ 6. ' +\n                'Firefox 4 and 5 are also supported but you ' +\n                'have to enable WebSockets in about:config.'\n        );\n    }\n};\n\nmpl.figure = function (figure_id, websocket, ondownload, parent_element) {\n    this.id = figure_id;\n\n    this.ws = websocket;\n\n    this.supports_binary = this.ws.binaryType !== undefined;\n\n    if (!this.supports_binary) {\n        var warnings = document.getElementById('mpl-warnings');\n        if (warnings) {\n            warnings.style.display = 'block';\n            warnings.textContent =\n                'This browser does not support binary websocket messages. ' +\n                'Performance may be slow.';\n        }\n    }\n\n    this.imageObj = new Image();\n\n    this.context = undefined;\n    this.message = undefined;\n    this.canvas = undefined;\n    this.rubberband_canvas = undefined;\n    this.rubberband_context = undefined;\n    this.format_dropdown = undefined;\n\n    this.image_mode = 'full';\n\n    this.root = document.createElement('div');\n    this.root.setAttribute('style', 'display: inline-block');\n    this._root_extra_style(this.root);\n\n    parent_element.appendChild(this.root);\n\n    this._init_header(this);\n    this._init_canvas(this);\n    this._init_toolbar(this);\n\n    var fig = this;\n\n    this.waiting = false;\n\n    this.ws.onopen = function () {\n        fig.send_message('supports_binary', { value: fig.supports_binary });\n        fig.send_message('send_image_mode', {});\n        if (fig.ratio !== 1) {\n            fig.send_message('set_device_pixel_ratio', {\n                device_pixel_ratio: fig.ratio,\n            });\n        }\n        fig.send_message('refresh', {});\n    };\n\n    this.imageObj.onload = function () {\n        if (fig.image_mode === 'full') {\n            // Full images could contain transparency (where diff images\n            // almost always do), so we need to clear the canvas so that\n            // there is no ghosting.\n            fig.context.clearRect(0, 0, fig.canvas.width, fig.canvas.height);\n        }\n        fig.context.drawImage(fig.imageObj, 0, 0);\n    };\n\n    this.imageObj.onunload = function () {\n        fig.ws.close();\n    };\n\n    this.ws.onmessage = this._make_on_message_function(this);\n\n    this.ondownload = ondownload;\n};\n\nmpl.figure.prototype._init_header = function () {\n    var titlebar = document.createElement('div');\n    titlebar.classList =\n        'ui-dialog-titlebar ui-widget-header ui-corner-all ui-helper-clearfix';\n    var titletext = document.createElement('div');\n    titletext.classList = 'ui-dialog-title';\n    titletext.setAttribute(\n        'style',\n        'width: 100%; text-align: center; padding: 3px;'\n    );\n    titlebar.appendChild(titletext);\n    this.root.appendChild(titlebar);\n    this.header = titletext;\n};\n\nmpl.figure.prototype._canvas_extra_style = function (_canvas_div) {};\n\nmpl.figure.prototype._root_extra_style = function (_canvas_div) {};\n\nmpl.figure.prototype._init_canvas = function () {\n    var fig = this;\n\n    var canvas_div = (this.canvas_div = document.createElement('div'));\n    canvas_div.setAttribute('tabindex', '0');\n    canvas_div.setAttribute(\n        'style',\n        'border: 1px solid #ddd;' +\n            'box-sizing: content-box;' +\n            'clear: both;' +\n            'min-height: 1px;' +\n            'min-width: 1px;' +\n            'outline: 0;' +\n            'overflow: hidden;' +\n            'position: relative;' +\n            'resize: both;' +\n            'z-index: 2;'\n    );\n\n    function on_keyboard_event_closure(name) {\n        return function (event) {\n            return fig.key_event(event, name);\n        };\n    }\n\n    canvas_div.addEventListener(\n        'keydown',\n        on_keyboard_event_closure('key_press')\n    );\n    canvas_div.addEventListener(\n        'keyup',\n        on_keyboard_event_closure('key_release')\n    );\n\n    this._canvas_extra_style(canvas_div);\n    this.root.appendChild(canvas_div);\n\n    var canvas = (this.canvas = document.createElement('canvas'));\n    canvas.classList.add('mpl-canvas');\n    canvas.setAttribute(\n        'style',\n        'box-sizing: content-box;' +\n            'pointer-events: none;' +\n            'position: relative;' +\n            'z-index: 0;'\n    );\n\n    this.context = canvas.getContext('2d');\n\n    var backingStore =\n        this.context.backingStorePixelRatio ||\n        this.context.webkitBackingStorePixelRatio ||\n        this.context.mozBackingStorePixelRatio ||\n        this.context.msBackingStorePixelRatio ||\n        this.context.oBackingStorePixelRatio ||\n        this.context.backingStorePixelRatio ||\n        1;\n\n    this.ratio = (window.devicePixelRatio || 1) / backingStore;\n\n    var rubberband_canvas = (this.rubberband_canvas = document.createElement(\n        'canvas'\n    ));\n    rubberband_canvas.setAttribute(\n        'style',\n        'box-sizing: content-box;' +\n            'left: 0;' +\n            'pointer-events: none;' +\n            'position: absolute;' +\n            'top: 0;' +\n            'z-index: 1;'\n    );\n\n    // Apply a ponyfill if ResizeObserver is not implemented by browser.\n    if (this.ResizeObserver === undefined) {\n        if (window.ResizeObserver !== undefined) {\n            this.ResizeObserver = window.ResizeObserver;\n        } else {\n            var obs = _JSXTOOLS_RESIZE_OBSERVER({});\n            this.ResizeObserver = obs.ResizeObserver;\n        }\n    }\n\n    this.resizeObserverInstance = new this.ResizeObserver(function (entries) {\n        // There's no need to resize if the WebSocket is not connected:\n        // - If it is still connecting, then we will get an initial resize from\n        //   Python once it connects.\n        // - If it has disconnected, then resizing will clear the canvas and\n        //   never get anything back to refill it, so better to not resize and\n        //   keep something visible.\n        if (fig.ws.readyState != 1) {\n            return;\n        }\n        var nentries = entries.length;\n        for (var i = 0; i < nentries; i++) {\n            var entry = entries[i];\n            var width, height;\n            if (entry.contentBoxSize) {\n                if (entry.contentBoxSize instanceof Array) {\n                    // Chrome 84 implements new version of spec.\n                    width = entry.contentBoxSize[0].inlineSize;\n                    height = entry.contentBoxSize[0].blockSize;\n                } else {\n                    // Firefox implements old version of spec.\n                    width = entry.contentBoxSize.inlineSize;\n                    height = entry.contentBoxSize.blockSize;\n                }\n            } else {\n                // Chrome <84 implements even older version of spec.\n                width = entry.contentRect.width;\n                height = entry.contentRect.height;\n            }\n\n            // Keep the size of the canvas and rubber band canvas in sync with\n            // the canvas container.\n            if (entry.devicePixelContentBoxSize) {\n                // Chrome 84 implements new version of spec.\n                canvas.setAttribute(\n                    'width',\n                    entry.devicePixelContentBoxSize[0].inlineSize\n                );\n                canvas.setAttribute(\n                    'height',\n                    entry.devicePixelContentBoxSize[0].blockSize\n                );\n            } else {\n                canvas.setAttribute('width', width * fig.ratio);\n                canvas.setAttribute('height', height * fig.ratio);\n            }\n            /* This rescales the canvas back to display pixels, so that it\n             * appears correct on HiDPI screens. */\n            canvas.style.width = width + 'px';\n            canvas.style.height = height + 'px';\n\n            rubberband_canvas.setAttribute('width', width);\n            rubberband_canvas.setAttribute('height', height);\n\n            // And update the size in Python. We ignore the initial 0/0 size\n            // that occurs as the element is placed into the DOM, which should\n            // otherwise not happen due to the minimum size styling.\n            if (width != 0 && height != 0) {\n                fig.request_resize(width, height);\n            }\n        }\n    });\n    this.resizeObserverInstance.observe(canvas_div);\n\n    function on_mouse_event_closure(name) {\n        /* User Agent sniffing is bad, but WebKit is busted:\n         * https://bugs.webkit.org/show_bug.cgi?id=144526\n         * https://bugs.webkit.org/show_bug.cgi?id=181818\n         * The worst that happens here is that they get an extra browser\n         * selection when dragging, if this check fails to catch them.\n         */\n        var UA = navigator.userAgent;\n        var isWebKit = /AppleWebKit/.test(UA) && !/Chrome/.test(UA);\n        if(isWebKit) {\n            return function (event) {\n                /* This prevents the web browser from automatically changing to\n                 * the text insertion cursor when the button is pressed. We\n                 * want to control all of the cursor setting manually through\n                 * the 'cursor' event from matplotlib */\n                event.preventDefault()\n                return fig.mouse_event(event, name);\n            };\n        } else {\n            return function (event) {\n                return fig.mouse_event(event, name);\n            };\n        }\n    }\n\n    canvas_div.addEventListener(\n        'mousedown',\n        on_mouse_event_closure('button_press')\n    );\n    canvas_div.addEventListener(\n        'mouseup',\n        on_mouse_event_closure('button_release')\n    );\n    canvas_div.addEventListener(\n        'dblclick',\n        on_mouse_event_closure('dblclick')\n    );\n    // Throttle sequential mouse events to 1 every 20ms.\n    canvas_div.addEventListener(\n        'mousemove',\n        on_mouse_event_closure('motion_notify')\n    );\n\n    canvas_div.addEventListener(\n        'mouseenter',\n        on_mouse_event_closure('figure_enter')\n    );\n    canvas_div.addEventListener(\n        'mouseleave',\n        on_mouse_event_closure('figure_leave')\n    );\n\n    canvas_div.addEventListener('wheel', function (event) {\n        if (event.deltaY < 0) {\n            event.step = 1;\n        } else {\n            event.step = -1;\n        }\n        on_mouse_event_closure('scroll')(event);\n    });\n\n    canvas_div.appendChild(canvas);\n    canvas_div.appendChild(rubberband_canvas);\n\n    this.rubberband_context = rubberband_canvas.getContext('2d');\n    this.rubberband_context.strokeStyle = '#000000';\n\n    this._resize_canvas = function (width, height, forward) {\n        if (forward) {\n            canvas_div.style.width = width + 'px';\n            canvas_div.style.height = height + 'px';\n        }\n    };\n\n    // Disable right mouse context menu.\n    canvas_div.addEventListener('contextmenu', function (_e) {\n        event.preventDefault();\n        return false;\n    });\n\n    function set_focus() {\n        canvas.focus();\n        canvas_div.focus();\n    }\n\n    window.setTimeout(set_focus, 100);\n};\n\nmpl.figure.prototype._init_toolbar = function () {\n    var fig = this;\n\n    var toolbar = document.createElement('div');\n    toolbar.classList = 'mpl-toolbar';\n    this.root.appendChild(toolbar);\n\n    function on_click_closure(name) {\n        return function (_event) {\n            return fig.toolbar_button_onclick(name);\n        };\n    }\n\n    function on_mouseover_closure(tooltip) {\n        return function (event) {\n            if (!event.currentTarget.disabled) {\n                return fig.toolbar_button_onmouseover(tooltip);\n            }\n        };\n    }\n\n    fig.buttons = {};\n    var buttonGroup = document.createElement('div');\n    buttonGroup.classList = 'mpl-button-group';\n    for (var toolbar_ind in mpl.toolbar_items) {\n        var name = mpl.toolbar_items[toolbar_ind][0];\n        var tooltip = mpl.toolbar_items[toolbar_ind][1];\n        var image = mpl.toolbar_items[toolbar_ind][2];\n        var method_name = mpl.toolbar_items[toolbar_ind][3];\n\n        if (!name) {\n            /* Instead of a spacer, we start a new button group. */\n            if (buttonGroup.hasChildNodes()) {\n                toolbar.appendChild(buttonGroup);\n            }\n            buttonGroup = document.createElement('div');\n            buttonGroup.classList = 'mpl-button-group';\n            continue;\n        }\n\n        var button = (fig.buttons[name] = document.createElement('button'));\n        button.classList = 'mpl-widget';\n        button.setAttribute('role', 'button');\n        button.setAttribute('aria-disabled', 'false');\n        button.addEventListener('click', on_click_closure(method_name));\n        button.addEventListener('mouseover', on_mouseover_closure(tooltip));\n\n        var icon_img = document.createElement('img');\n        icon_img.src = '_images/' + image + '.png';\n        icon_img.srcset = '_images/' + image + '_large.png 2x';\n        icon_img.alt = tooltip;\n        button.appendChild(icon_img);\n\n        buttonGroup.appendChild(button);\n    }\n\n    if (buttonGroup.hasChildNodes()) {\n        toolbar.appendChild(buttonGroup);\n    }\n\n    var fmt_picker = document.createElement('select');\n    fmt_picker.classList = 'mpl-widget';\n    toolbar.appendChild(fmt_picker);\n    this.format_dropdown = fmt_picker;\n\n    for (var ind in mpl.extensions) {\n        var fmt = mpl.extensions[ind];\n        var option = document.createElement('option');\n        option.selected = fmt === mpl.default_extension;\n        option.innerHTML = fmt;\n        fmt_picker.appendChild(option);\n    }\n\n    var status_bar = document.createElement('span');\n    status_bar.classList = 'mpl-message';\n    toolbar.appendChild(status_bar);\n    this.message = status_bar;\n};\n\nmpl.figure.prototype.request_resize = function (x_pixels, y_pixels) {\n    // Request matplotlib to resize the figure. Matplotlib will then trigger a resize in the client,\n    // which will in turn request a refresh of the image.\n    this.send_message('resize', { width: x_pixels, height: y_pixels });\n};\n\nmpl.figure.prototype.send_message = function (type, properties) {\n    properties['type'] = type;\n    properties['figure_id'] = this.id;\n    this.ws.send(JSON.stringify(properties));\n};\n\nmpl.figure.prototype.send_draw_message = function () {\n    if (!this.waiting) {\n        this.waiting = true;\n        this.ws.send(JSON.stringify({ type: 'draw', figure_id: this.id }));\n    }\n};\n\nmpl.figure.prototype.handle_save = function (fig, _msg) {\n    var format_dropdown = fig.format_dropdown;\n    var format = format_dropdown.options[format_dropdown.selectedIndex].value;\n    fig.ondownload(fig, format);\n};\n\nmpl.figure.prototype.handle_resize = function (fig, msg) {\n    var size = msg['size'];\n    if (size[0] !== fig.canvas.width || size[1] !== fig.canvas.height) {\n        fig._resize_canvas(size[0], size[1], msg['forward']);\n        fig.send_message('refresh', {});\n    }\n};\n\nmpl.figure.prototype.handle_rubberband = function (fig, msg) {\n    var x0 = msg['x0'] / fig.ratio;\n    var y0 = (fig.canvas.height - msg['y0']) / fig.ratio;\n    var x1 = msg['x1'] / fig.ratio;\n    var y1 = (fig.canvas.height - msg['y1']) / fig.ratio;\n    x0 = Math.floor(x0) + 0.5;\n    y0 = Math.floor(y0) + 0.5;\n    x1 = Math.floor(x1) + 0.5;\n    y1 = Math.floor(y1) + 0.5;\n    var min_x = Math.min(x0, x1);\n    var min_y = Math.min(y0, y1);\n    var width = Math.abs(x1 - x0);\n    var height = Math.abs(y1 - y0);\n\n    fig.rubberband_context.clearRect(\n        0,\n        0,\n        fig.canvas.width / fig.ratio,\n        fig.canvas.height / fig.ratio\n    );\n\n    fig.rubberband_context.strokeRect(min_x, min_y, width, height);\n};\n\nmpl.figure.prototype.handle_figure_label = function (fig, msg) {\n    // Updates the figure title.\n    fig.header.textContent = msg['label'];\n};\n\nmpl.figure.prototype.handle_cursor = function (fig, msg) {\n    fig.canvas_div.style.cursor = msg['cursor'];\n};\n\nmpl.figure.prototype.handle_message = function (fig, msg) {\n    fig.message.textContent = msg['message'];\n};\n\nmpl.figure.prototype.handle_draw = function (fig, _msg) {\n    // Request the server to send over a new figure.\n    fig.send_draw_message();\n};\n\nmpl.figure.prototype.handle_image_mode = function (fig, msg) {\n    fig.image_mode = msg['mode'];\n};\n\nmpl.figure.prototype.handle_history_buttons = function (fig, msg) {\n    for (var key in msg) {\n        if (!(key in fig.buttons)) {\n            continue;\n        }\n        fig.buttons[key].disabled = !msg[key];\n        fig.buttons[key].setAttribute('aria-disabled', !msg[key]);\n    }\n};\n\nmpl.figure.prototype.handle_navigate_mode = function (fig, msg) {\n    if (msg['mode'] === 'PAN') {\n        fig.buttons['Pan'].classList.add('active');\n        fig.buttons['Zoom'].classList.remove('active');\n    } else if (msg['mode'] === 'ZOOM') {\n        fig.buttons['Pan'].classList.remove('active');\n        fig.buttons['Zoom'].classList.add('active');\n    } else {\n        fig.buttons['Pan'].classList.remove('active');\n        fig.buttons['Zoom'].classList.remove('active');\n    }\n};\n\nmpl.figure.prototype.updated_canvas_event = function () {\n    // Called whenever the canvas gets updated.\n    this.send_message('ack', {});\n};\n\n// A function to construct a web socket function for onmessage handling.\n// Called in the figure constructor.\nmpl.figure.prototype._make_on_message_function = function (fig) {\n    return function socket_on_message(evt) {\n        if (evt.data instanceof Blob) {\n            var img = evt.data;\n            if (img.type !== 'image/png') {\n                /* FIXME: We get \"Resource interpreted as Image but\n                 * transferred with MIME type text/plain:\" errors on\n                 * Chrome.  But how to set the MIME type?  It doesn't seem\n                 * to be part of the websocket stream */\n                img.type = 'image/png';\n            }\n\n            /* Free the memory for the previous frames */\n            if (fig.imageObj.src) {\n                (window.URL || window.webkitURL).revokeObjectURL(\n                    fig.imageObj.src\n                );\n            }\n\n            fig.imageObj.src = (window.URL || window.webkitURL).createObjectURL(\n                img\n            );\n            fig.updated_canvas_event();\n            fig.waiting = false;\n            return;\n        } else if (\n            typeof evt.data === 'string' &&\n            evt.data.slice(0, 21) === 'data:image/png;base64'\n        ) {\n            fig.imageObj.src = evt.data;\n            fig.updated_canvas_event();\n            fig.waiting = false;\n            return;\n        }\n\n        var msg = JSON.parse(evt.data);\n        var msg_type = msg['type'];\n\n        // Call the  \"handle_{type}\" callback, which takes\n        // the figure and JSON message as its only arguments.\n        try {\n            var callback = fig['handle_' + msg_type];\n        } catch (e) {\n            console.log(\n                \"No handler for the '\" + msg_type + \"' message type: \",\n                msg\n            );\n            return;\n        }\n\n        if (callback) {\n            try {\n                // console.log(\"Handling '\" + msg_type + \"' message: \", msg);\n                callback(fig, msg);\n            } catch (e) {\n                console.log(\n                    \"Exception inside the 'handler_\" + msg_type + \"' callback:\",\n                    e,\n                    e.stack,\n                    msg\n                );\n            }\n        }\n    };\n};\n\nfunction getModifiers(event) {\n    var mods = [];\n    if (event.ctrlKey) {\n        mods.push('ctrl');\n    }\n    if (event.altKey) {\n        mods.push('alt');\n    }\n    if (event.shiftKey) {\n        mods.push('shift');\n    }\n    if (event.metaKey) {\n        mods.push('meta');\n    }\n    return mods;\n}\n\n/*\n * return a copy of an object with only non-object keys\n * we need this to avoid circular references\n * https://stackoverflow.com/a/24161582/3208463\n */\nfunction simpleKeys(original) {\n    return Object.keys(original).reduce(function (obj, key) {\n        if (typeof original[key] !== 'object') {\n            obj[key] = original[key];\n        }\n        return obj;\n    }, {});\n}\n\nmpl.figure.prototype.mouse_event = function (event, name) {\n    if (name === 'button_press') {\n        this.canvas.focus();\n        this.canvas_div.focus();\n    }\n\n    // from https://stackoverflow.com/q/1114465\n    var boundingRect = this.canvas.getBoundingClientRect();\n    var x = (event.clientX - boundingRect.left) * this.ratio;\n    var y = (event.clientY - boundingRect.top) * this.ratio;\n\n    this.send_message(name, {\n        x: x,\n        y: y,\n        button: event.button,\n        step: event.step,\n        modifiers: getModifiers(event),\n        guiEvent: simpleKeys(event),\n    });\n\n    return false;\n};\n\nmpl.figure.prototype._key_event_extra = function (_event, _name) {\n    // Handle any extra behaviour associated with a key event\n};\n\nmpl.figure.prototype.key_event = function (event, name) {\n    // Prevent repeat events\n    if (name === 'key_press') {\n        if (event.key === this._key) {\n            return;\n        } else {\n            this._key = event.key;\n        }\n    }\n    if (name === 'key_release') {\n        this._key = null;\n    }\n\n    var value = '';\n    if (event.ctrlKey && event.key !== 'Control') {\n        value += 'ctrl+';\n    }\n    else if (event.altKey && event.key !== 'Alt') {\n        value += 'alt+';\n    }\n    else if (event.shiftKey && event.key !== 'Shift') {\n        value += 'shift+';\n    }\n\n    value += 'k' + event.key;\n\n    this._key_event_extra(event, name);\n\n    this.send_message(name, { key: value, guiEvent: simpleKeys(event) });\n    return false;\n};\n\nmpl.figure.prototype.toolbar_button_onclick = function (name) {\n    if (name === 'download') {\n        this.handle_save(this, null);\n    } else {\n        this.send_message('toolbar_button', { name: name });\n    }\n};\n\nmpl.figure.prototype.toolbar_button_onmouseover = function (tooltip) {\n    this.message.textContent = tooltip;\n};\n\n///////////////// REMAINING CONTENT GENERATED BY embed_js.py /////////////////\n// prettier-ignore\nvar _JSXTOOLS_RESIZE_OBSERVER=function(A){var t,i=new WeakMap,n=new WeakMap,a=new WeakMap,r=new WeakMap,o=new Set;function s(e){if(!(this instanceof s))throw new TypeError(\"Constructor requires 'new' operator\");i.set(this,e)}function h(){throw new TypeError(\"Function is not a constructor\")}function c(e,t,i,n){e=0 in arguments?Number(arguments[0]):0,t=1 in arguments?Number(arguments[1]):0,i=2 in arguments?Number(arguments[2]):0,n=3 in arguments?Number(arguments[3]):0,this.right=(this.x=this.left=e)+(this.width=i),this.bottom=(this.y=this.top=t)+(this.height=n),Object.freeze(this)}function d(){t=requestAnimationFrame(d);var s=new WeakMap,p=new Set;o.forEach((function(t){r.get(t).forEach((function(i){var r=t instanceof window.SVGElement,o=a.get(t),d=r?0:parseFloat(o.paddingTop),f=r?0:parseFloat(o.paddingRight),l=r?0:parseFloat(o.paddingBottom),u=r?0:parseFloat(o.paddingLeft),g=r?0:parseFloat(o.borderTopWidth),m=r?0:parseFloat(o.borderRightWidth),w=r?0:parseFloat(o.borderBottomWidth),b=u+f,F=d+l,v=(r?0:parseFloat(o.borderLeftWidth))+m,W=g+w,y=r?0:t.offsetHeight-W-t.clientHeight,E=r?0:t.offsetWidth-v-t.clientWidth,R=b+v,z=F+W,M=r?t.width:parseFloat(o.width)-R-E,O=r?t.height:parseFloat(o.height)-z-y;if(n.has(t)){var k=n.get(t);if(k[0]===M&&k[1]===O)return}n.set(t,[M,O]);var S=Object.create(h.prototype);S.target=t,S.contentRect=new c(u,d,M,O),s.has(i)||(s.set(i,[]),p.add(i)),s.get(i).push(S)}))})),p.forEach((function(e){i.get(e).call(e,s.get(e),e)}))}return s.prototype.observe=function(i){if(i instanceof window.Element){r.has(i)||(r.set(i,new Set),o.add(i),a.set(i,window.getComputedStyle(i)));var n=r.get(i);n.has(this)||n.add(this),cancelAnimationFrame(t),t=requestAnimationFrame(d)}},s.prototype.unobserve=function(i){if(i instanceof window.Element&&r.has(i)){var n=r.get(i);n.has(this)&&(n.delete(this),n.size||(r.delete(i),o.delete(i))),n.size||r.delete(i),o.size||cancelAnimationFrame(t)}},A.DOMRectReadOnly=c,A.ResizeObserver=s,A.ResizeObserverEntry=h,A}; // eslint-disable-line\nmpl.toolbar_items = [[\"Home\", \"Reset original view\", \"fa fa-home\", \"home\"], [\"Back\", \"Back to previous view\", \"fa fa-arrow-left\", \"back\"], [\"Forward\", \"Forward to next view\", \"fa fa-arrow-right\", \"forward\"], [\"\", \"\", \"\", \"\"], [\"Pan\", \"Left button pans, Right button zooms\\nx/y fixes axis, CTRL fixes aspect\", \"fa fa-arrows\", \"pan\"], [\"Zoom\", \"Zoom to rectangle\\nx/y fixes axis\", \"fa fa-square-o\", \"zoom\"], [\"\", \"\", \"\", \"\"], [\"Download\", \"Download plot\", \"fa fa-floppy-o\", \"download\"]];\n\nmpl.extensions = [\"eps\", \"jpeg\", \"pgf\", \"pdf\", \"png\", \"ps\", \"raw\", \"svg\", \"tif\", \"webp\"];\n\nmpl.default_extension = \"png\";/* global mpl */\n\nvar comm_websocket_adapter = function (comm) {\n    // Create a \"websocket\"-like object which calls the given IPython comm\n    // object with the appropriate methods. Currently this is a non binary\n    // socket, so there is still some room for performance tuning.\n    var ws = {};\n\n    ws.binaryType = comm.kernel.ws.binaryType;\n    ws.readyState = comm.kernel.ws.readyState;\n    function updateReadyState(_event) {\n        if (comm.kernel.ws) {\n            ws.readyState = comm.kernel.ws.readyState;\n        } else {\n            ws.readyState = 3; // Closed state.\n        }\n    }\n    comm.kernel.ws.addEventListener('open', updateReadyState);\n    comm.kernel.ws.addEventListener('close', updateReadyState);\n    comm.kernel.ws.addEventListener('error', updateReadyState);\n\n    ws.close = function () {\n        comm.close();\n    };\n    ws.send = function (m) {\n        //console.log('sending', m);\n        comm.send(m);\n    };\n    // Register the callback with on_msg.\n    comm.on_msg(function (msg) {\n        //console.log('receiving', msg['content']['data'], msg);\n        var data = msg['content']['data'];\n        if (data['blob'] !== undefined) {\n            data = {\n                data: new Blob(msg['buffers'], { type: data['blob'] }),\n            };\n        }\n        // Pass the mpl event to the overridden (by mpl) onmessage function.\n        ws.onmessage(data);\n    });\n    return ws;\n};\n\nmpl.mpl_figure_comm = function (comm, msg) {\n    // This is the function which gets called when the mpl process\n    // starts-up an IPython Comm through the \"matplotlib\" channel.\n\n    var id = msg.content.data.id;\n    // Get hold of the div created by the display call when the Comm\n    // socket was opened in Python.\n    var element = document.getElementById(id);\n    var ws_proxy = comm_websocket_adapter(comm);\n\n    function ondownload(figure, _format) {\n        window.open(figure.canvas.toDataURL());\n    }\n\n    var fig = new mpl.figure(id, ws_proxy, ondownload, element);\n\n    // Call onopen now - mpl needs it, as it is assuming we've passed it a real\n    // web socket which is closed, not our websocket->open comm proxy.\n    ws_proxy.onopen();\n\n    fig.parent_element = element;\n    fig.cell_info = mpl.find_output_cell(\"<div id='\" + id + \"'></div>\");\n    if (!fig.cell_info) {\n        console.error('Failed to find cell for figure', id, fig);\n        return;\n    }\n    fig.cell_info[0].output_area.element.on(\n        'cleared',\n        { fig: fig },\n        fig._remove_fig_handler\n    );\n};\n\nmpl.figure.prototype.handle_close = function (fig, msg) {\n    var width = fig.canvas.width / fig.ratio;\n    fig.cell_info[0].output_area.element.off(\n        'cleared',\n        fig._remove_fig_handler\n    );\n    fig.resizeObserverInstance.unobserve(fig.canvas_div);\n\n    // Update the output cell to use the data from the current canvas.\n    fig.push_to_output();\n    var dataURL = fig.canvas.toDataURL();\n    // Re-enable the keyboard manager in IPython - without this line, in FF,\n    // the notebook keyboard shortcuts fail.\n    IPython.keyboard_manager.enable();\n    fig.parent_element.innerHTML =\n        '<img src=\"' + dataURL + '\" width=\"' + width + '\">';\n    fig.close_ws(fig, msg);\n};\n\nmpl.figure.prototype.close_ws = function (fig, msg) {\n    fig.send_message('closing', msg);\n    // fig.ws.close()\n};\n\nmpl.figure.prototype.push_to_output = function (_remove_interactive) {\n    // Turn the data on the canvas into data in the output cell.\n    var width = this.canvas.width / this.ratio;\n    var dataURL = this.canvas.toDataURL();\n    this.cell_info[1]['text/html'] =\n        '<img src=\"' + dataURL + '\" width=\"' + width + '\">';\n};\n\nmpl.figure.prototype.updated_canvas_event = function () {\n    // Tell IPython that the notebook contents must change.\n    IPython.notebook.set_dirty(true);\n    this.send_message('ack', {});\n    var fig = this;\n    // Wait a second, then push the new image to the DOM so\n    // that it is saved nicely (might be nice to debounce this).\n    setTimeout(function () {\n        fig.push_to_output();\n    }, 1000);\n};\n\nmpl.figure.prototype._init_toolbar = function () {\n    var fig = this;\n\n    var toolbar = document.createElement('div');\n    toolbar.classList = 'btn-toolbar';\n    this.root.appendChild(toolbar);\n\n    function on_click_closure(name) {\n        return function (_event) {\n            return fig.toolbar_button_onclick(name);\n        };\n    }\n\n    function on_mouseover_closure(tooltip) {\n        return function (event) {\n            if (!event.currentTarget.disabled) {\n                return fig.toolbar_button_onmouseover(tooltip);\n            }\n        };\n    }\n\n    fig.buttons = {};\n    var buttonGroup = document.createElement('div');\n    buttonGroup.classList = 'btn-group';\n    var button;\n    for (var toolbar_ind in mpl.toolbar_items) {\n        var name = mpl.toolbar_items[toolbar_ind][0];\n        var tooltip = mpl.toolbar_items[toolbar_ind][1];\n        var image = mpl.toolbar_items[toolbar_ind][2];\n        var method_name = mpl.toolbar_items[toolbar_ind][3];\n\n        if (!name) {\n            /* Instead of a spacer, we start a new button group. */\n            if (buttonGroup.hasChildNodes()) {\n                toolbar.appendChild(buttonGroup);\n            }\n            buttonGroup = document.createElement('div');\n            buttonGroup.classList = 'btn-group';\n            continue;\n        }\n\n        button = fig.buttons[name] = document.createElement('button');\n        button.classList = 'btn btn-default';\n        button.href = '#';\n        button.title = name;\n        button.innerHTML = '<i class=\"fa ' + image + ' fa-lg\"></i>';\n        button.addEventListener('click', on_click_closure(method_name));\n        button.addEventListener('mouseover', on_mouseover_closure(tooltip));\n        buttonGroup.appendChild(button);\n    }\n\n    if (buttonGroup.hasChildNodes()) {\n        toolbar.appendChild(buttonGroup);\n    }\n\n    // Add the status bar.\n    var status_bar = document.createElement('span');\n    status_bar.classList = 'mpl-message pull-right';\n    toolbar.appendChild(status_bar);\n    this.message = status_bar;\n\n    // Add the close button to the window.\n    var buttongrp = document.createElement('div');\n    buttongrp.classList = 'btn-group inline pull-right';\n    button = document.createElement('button');\n    button.classList = 'btn btn-mini btn-primary';\n    button.href = '#';\n    button.title = 'Stop Interaction';\n    button.innerHTML = '<i class=\"fa fa-power-off icon-remove icon-large\"></i>';\n    button.addEventListener('click', function (_evt) {\n        fig.handle_close(fig, {});\n    });\n    button.addEventListener(\n        'mouseover',\n        on_mouseover_closure('Stop Interaction')\n    );\n    buttongrp.appendChild(button);\n    var titlebar = this.root.querySelector('.ui-dialog-titlebar');\n    titlebar.insertBefore(buttongrp, titlebar.firstChild);\n};\n\nmpl.figure.prototype._remove_fig_handler = function (event) {\n    var fig = event.data.fig;\n    if (event.target !== this) {\n        // Ignore bubbled events from children.\n        return;\n    }\n    fig.close_ws(fig, {});\n};\n\nmpl.figure.prototype._root_extra_style = function (el) {\n    el.style.boxSizing = 'content-box'; // override notebook setting of border-box.\n};\n\nmpl.figure.prototype._canvas_extra_style = function (el) {\n    // this is important to make the div 'focusable\n    el.setAttribute('tabindex', 0);\n    // reach out to IPython and tell the keyboard manager to turn it's self\n    // off when our div gets focus\n\n    // location in version 3\n    if (IPython.notebook.keyboard_manager) {\n        IPython.notebook.keyboard_manager.register_events(el);\n    } else {\n        // location in version 2\n        IPython.keyboard_manager.register_events(el);\n    }\n};\n\nmpl.figure.prototype._key_event_extra = function (event, _name) {\n    // Check for shift+enter\n    if (event.shiftKey && event.which === 13) {\n        this.canvas_div.blur();\n        // select the cell after this one\n        var index = IPython.notebook.find_cell_index(this.cell_info[0]);\n        IPython.notebook.select(index + 1);\n    }\n};\n\nmpl.figure.prototype.handle_save = function (fig, _msg) {\n    fig.ondownload(fig, null);\n};\n\nmpl.find_output_cell = function (html_output) {\n    // Return the cell and output element which can be found *uniquely* in the notebook.\n    // Note - this is a bit hacky, but it is done because the \"notebook_saving.Notebook\"\n    // IPython event is triggered only after the cells have been serialised, which for\n    // our purposes (turning an active figure into a static one), is too late.\n    var cells = IPython.notebook.get_cells();\n    var ncells = cells.length;\n    for (var i = 0; i < ncells; i++) {\n        var cell = cells[i];\n        if (cell.cell_type === 'code') {\n            for (var j = 0; j < cell.output_area.outputs.length; j++) {\n                var data = cell.output_area.outputs[j];\n                if (data.data) {\n                    // IPython >= 3 moved mimebundle to data attribute of output\n                    data = data.data;\n                }\n                if (data['text/html'] === html_output) {\n                    return [cell, data, j];\n                }\n            }\n        }\n    }\n};\n\n// Register the function which deals with the matplotlib target/channel.\n// The kernel may be null if the page has been refreshed.\nif (IPython.notebook.kernel !== null) {\n    IPython.notebook.kernel.comm_manager.register_target(\n        'matplotlib',\n        mpl.mpl_figure_comm\n    );\n}\n",
      "text/plain": [
       "<IPython.core.display.Javascript object>"
      ]
     },
     "metadata": {},
     "output_type": "display_data"
    },
    {
     "data": {
      "text/html": [
       "<div id='105ef18d-d4b5-4a33-a133-4e5a2cafac47'></div>"
      ],
      "text/plain": [
       "<IPython.core.display.HTML object>"
      ]
     },
     "metadata": {},
     "output_type": "display_data"
    },
    {
     "name": "stdout",
     "output_type": "stream",
     "text": [
      " \n",
      "This episode took 30 steps, with -31 of reward\n"
     ]
    }
   ],
   "source": [
    "%matplotlib nbagg\n",
    "random_exploration(start, stop, state_index, 30)"
   ]
  },
  {
   "cell_type": "markdown",
   "metadata": {},
   "source": [
    "## Several episodes\n",
    "A fair question would be: how many steps does the agent take *on average* in order to get to the final state following this equiprobable policy? For the 4x4 example shown before and considering 1000 episodes we would get the following:\n",
    "\n",
    "![](images/RandomPolicyReward1000Episodes.png)"
   ]
  },
  {
   "cell_type": "code",
   "execution_count": 19,
   "metadata": {
    "code_folding": [
     0
    ]
   },
   "outputs": [],
   "source": [
    "def random_exploration_episodes(start, stop, state_index, episodes):\n",
    "    all_steps = []\n",
    "    all_rewards = []\n",
    "    episode_n = []\n",
    "\n",
    "    for e in tqdm(range(1, episodes + 1)):\n",
    "        episode_steps = 0\n",
    "        episode_reward = get_reward(start)\n",
    "        state = start\n",
    "\n",
    "        while state != stop:\n",
    "            old_state, action, new_state, reward = take_one_step(\n",
    "                state, state_index, all_states_grid\n",
    "            )\n",
    "            episode_steps += 1\n",
    "            episode_reward += reward\n",
    "            state = new_state\n",
    "\n",
    "        all_steps.append(episode_steps)\n",
    "        all_rewards.append(episode_reward)\n",
    "        episode_n.append(e)\n",
    "\n",
    "    fig, ax = plt.subplots(figsize=(10, 5))\n",
    "    plt.plot(episode_n, all_rewards)\n",
    "    plt.title(\n",
    "        \"Average of \"\n",
    "        + str(round(np.mean(np.asarray(all_rewards)), 2))\n",
    "        + \" cumulated reward\",\n",
    "        fontsize=17,\n",
    "    )\n",
    "    plt.xlabel(\"Episode number\", fontsize=15)\n",
    "    plt.ylabel(\"Cumulated reward\", fontsize=15)\n",
    "    plt.xticks(fontsize=14)\n",
    "    plt.yticks(fontsize=14)\n",
    "    plt.grid()\n",
    "    plt.show()"
   ]
  },
  {
   "cell_type": "code",
   "execution_count": 20,
   "metadata": {},
   "outputs": [
    {
     "name": "stderr",
     "output_type": "stream",
     "text": [
      "100%|██████████| 1000/1000 [00:01<00:00, 633.05it/s]\n"
     ]
    },
    {
     "data": {
      "image/png": "[encoded data removed]",
      "text/plain": [
       "<Figure size 1000x500 with 1 Axes>"
      ]
     },
     "metadata": {},
     "output_type": "display_data"
    }
   ],
   "source": [
    "# Run this cell to see what you get for the gridworld you defined\n",
    "%matplotlib inline\n",
    "random_exploration_episodes(start, stop, state_index, 1000)"
   ]
  },
  {
   "cell_type": "markdown",
   "metadata": {},
   "source": [
    "# Value function\n",
    "What if instead of doing an average of many episodes, we could immediatey predict the future reward you expect by being in a particular state? This is where the value function and the Bellman equation enter the game.\n",
    "\n",
    "The **value function** $v$ is a prediction of the expected future reward.\n",
    "* It's used to evaluate how \"good\" being in a state is, which in turn helps the agent choose between states. It's value represents the amount of cumulated reward you are expecting to get from that state onwards.\n",
    "* It works like a one-step lookahead tree, where you average all the possible outcomes together and get the value function at that particular state.\n",
    "\n",
    "\\begin{equation}\n",
    "    v(s) = \\mathcal{R_s} + \\gamma \\sum_{s'\\in \\mathcal{S}} \\mathcal{P}_{ss'}v(s')\n",
    "\\end{equation}\n",
    "\n",
    "where $s$ is the current state, $s'$ is a possible future state, and:\n",
    "\n",
    "* $\\mathcal{R}_s$ is the **reward function** (how much reward we get from state $s$ at that moment).\n",
    "* $\\mathcal{P}_{ss'}$ is the **state transition probability**: $\\mathcal{P}_{ss'}=\\mathbb{P}[\\mathcal{S}_{t+1}=s'|\\mathcal{S_t}=s]$ (probability of being in state $s'$ after being in state $s$).\n",
    "* $\\gamma$ is a discount factor $\\gamma \\in [0,1]$, usually used to make returns finite. In this example the return can be 1 since the process is not cyclic."
   ]
  },
  {
   "cell_type": "code",
   "execution_count": 21,
   "metadata": {},
   "outputs": [],
   "source": [
    "gamma = 1"
   ]
  },
  {
   "cell_type": "markdown",
   "metadata": {},
   "source": [
    "# State-value function and the Bellman expectation equation\n",
    "The value function depends on the way the agent is behaving, i.e. on the policy $v \\rightarrow v_{\\pi}$.\n",
    "We define the **state-value function** $v_{\\pi}$ as the expected return starting from state $s$ and then following policy $\\pi$.\n",
    "If we decompose it into immediate reward and discounted value of successor state we get the **Bellman expectation equation**:\n",
    "\n",
    "\\begin{equation}\n",
    "    v_{\\pi}(s) = \\sum_{a \\in \\mathcal{A}} \\pi(a|s)  \\ (\\mathcal{R^a_s} + \\gamma \\sum_{s'\\in \\mathcal{S}} \\mathcal{P}^a_{ss'}v_{\\pi}(s') )\n",
    "\\end{equation}\n",
    "\n",
    "\n",
    "where $s$ is the current state, $s'$ is a possible future state, and:\n",
    "\n",
    "* $\\mathcal{R}^a_s$ is the **reward model** (expected reward through action $a$ after being in state $s$).\n",
    "* $\\mathcal{P}^a_{ss'}$ is the **state transition model**: $\\mathcal{P}_{ss'}=\\mathbb{P}[\\mathcal{S}_{t+1}=s'|\\mathcal{S_t}=s, \\mathcal{A}=a]$ (probability of ending up in state $s'$ through action $a$ after being in state $s$).\n",
    "\n",
    "In our case, every time the agent takes an action it will end up in the corresponding next state. This means that there is no uncertainty that by choosing the action 'up', the agent will go up. This might be different in other environments, but in this case $\\mathcal{P}^a_{ss'}$ = 1."
   ]
  },
  {
   "cell_type": "markdown",
   "metadata": {},
   "source": [
    "# Solving the Bellman expectation equation exactly\n",
    "The Bellman expectation equation given by Eq. (4) is a set of equations, which in the majority of situations cannot be explicitly solved. However, we are dealing with a very simple case where we can solve the equation exactly.\n",
    "Doing that for the 4x4 example we get the following state-value function (image below).\n",
    "Notice the value for state 0. Is it familiar? We actually got an approximation by averaging the total reward for 1000 episodes.\n",
    "\n",
    "![](images/RandomPolicyValueFunction4x4.png)"
   ]
  },
  {
   "cell_type": "code",
   "execution_count": 22,
   "metadata": {
    "code_folding": [
     0,
     1,
     16,
     68
    ]
   },
   "outputs": [],
   "source": [
    "# Functions to calculate and plot the value function\n",
    "def value_function_equation(s, next_viable_state, policy, a, gamma):\n",
    "    if s == stop:\n",
    "        v1 = 0\n",
    "    else:\n",
    "        v1 = Symbol(\"v\" + str(int(s)))\n",
    "\n",
    "    if next_viable_state == stop:\n",
    "        v2 = 0\n",
    "    else:\n",
    "        v2 = Symbol(\"v\" + str(int(next_viable_state)))\n",
    "\n",
    "    equation = policy[a] * get_reward(next_viable_state) + policy[a] * gamma * v2\n",
    "    return v1, v2, equation\n",
    "\n",
    "\n",
    "def get_value_function(states, actions, policy, gamma):\n",
    "    equations = []\n",
    "    variables = []\n",
    "    guess = []\n",
    "    for s in states[:-1]:\n",
    "        right_side_equation = 0\n",
    "        for a in actions:\n",
    "            next_viable_state = step(s, a, state_index, all_states_grid)\n",
    "            v1, v2, eq = value_function_equation(s, next_viable_state, policy, a, gamma)\n",
    "            right_side_equation += eq\n",
    "\n",
    "        new_equation = v1 - right_side_equation\n",
    "        print(new_equation, \"= 0\")\n",
    "        equations.append(new_equation)\n",
    "\n",
    "        if v1 != 0:\n",
    "            variables.append(v1)\n",
    "        guess.append(random.uniform(-200, 200))\n",
    "    #     variables.append(Symbol('v' + str(int(stop))))\n",
    "\n",
    "    print(\" \")\n",
    "    print(len(variables), \"variables, \", len(equations), \"equations\")\n",
    "\n",
    "    solutions_exact = solve(equations)\n",
    "\n",
    "    if len(solutions_exact) != 0:\n",
    "        print(\" \")\n",
    "        sol_dict = {}\n",
    "        sol_dict[str(stop)] = 0\n",
    "        for i, j in zip(solutions_exact.keys(), solutions_exact.values()):\n",
    "            sol_dict[str(i).strip(\"v\")] = round(j, 1)\n",
    "        return sol_dict\n",
    "\n",
    "    else:\n",
    "        print(\" \")\n",
    "        print(\"No exact solution, trying numerical solver\")\n",
    "\n",
    "        try:\n",
    "            solutions_numerical = nsolve(equations, variables, guess, verify=False)\n",
    "            print(\" \")\n",
    "\n",
    "            sol_dict = {}\n",
    "            sol_dict[str(stop)] = 0\n",
    "            for i, j in zip(variables, solutions_numerical):\n",
    "                sol_dict[str(i).strip(\"v\")] = round(j, 1)\n",
    "            return sol_dict\n",
    "\n",
    "        except ZeroDivisionError:\n",
    "            print(\" \")\n",
    "            print(\"The numerical solver did not find a solution\")\n",
    "\n",
    "\n",
    "def plot_gridworld_value_function(rows, columns, blocks, solutions):\n",
    "    counter_columns = -1\n",
    "    counter_rows = 0\n",
    "\n",
    "    row_grid_color = []\n",
    "    all_states_grid_color = np.zeros([rows, columns])\n",
    "\n",
    "    row_grid = []\n",
    "    all_states_grid = np.zeros([rows, columns], dtype=int)\n",
    "\n",
    "    row_grid_value = []\n",
    "    all_states_grid_value = np.zeros([rows, columns])\n",
    "\n",
    "    for s in range(0, rows * columns):\n",
    "        counter_columns += 1\n",
    "        if counter_columns < columns - 1:\n",
    "            row_grid.append(s)\n",
    "            if s in blocks:\n",
    "                row_grid_color.append(0)\n",
    "                row_grid_value.append(66)\n",
    "            else:\n",
    "                row_grid_color.append(0.5)\n",
    "                try:\n",
    "                    row_grid_value.append(solutions[str(int(s))])\n",
    "                except KeyError:\n",
    "                    row_grid_value.append(66)\n",
    "        else:\n",
    "            row_grid.append(s)\n",
    "            if s in blocks:\n",
    "                row_grid_color.append(0)\n",
    "                row_grid_value.append(66)\n",
    "            else:\n",
    "                row_grid_color.append(0.5)\n",
    "                try:\n",
    "                    row_grid_value.append(solutions[str(int(s))])\n",
    "                except KeyError:\n",
    "                    row_grid_value.append(66)\n",
    "\n",
    "            all_states_grid[counter_rows] = row_grid\n",
    "            all_states_grid_color[counter_rows] = row_grid_color\n",
    "            all_states_grid_value[counter_rows] = row_grid_value\n",
    "\n",
    "            row_grid = []\n",
    "            row_grid_color = []\n",
    "            row_grid_value = []\n",
    "\n",
    "            counter_columns = -1\n",
    "            counter_rows += 1\n",
    "\n",
    "    fig, ax = plt.subplots(figsize=(7, 5))\n",
    "    ax.imshow(\n",
    "        all_states_grid_value,\n",
    "        extent=[0, columns, rows, 0],\n",
    "        cmap=\"hot\",  # RdYlGn\n",
    "        vmin=min(solutions.values()),\n",
    "        vmax=max(solutions.values()) + 30,\n",
    "    )\n",
    "\n",
    "    ax.grid(color=\"black\", linestyle=\"-\", linewidth=5)\n",
    "    ax.xaxis.set_ticklabels([])\n",
    "    ax.xaxis.set_ticks_position(\"none\")\n",
    "    ax.yaxis.set_ticklabels([])\n",
    "    ax.yaxis.set_ticks_position(\"none\")\n",
    "\n",
    "    ax.set_xticks(np.arange(0, columns, step=1))\n",
    "    ax.set_yticks(np.arange(0, rows, step=1))\n",
    "\n",
    "    for i in range(0, rows):\n",
    "        for j in range(0, columns):\n",
    "            if all_states_grid_value[i, j] != 66:\n",
    "                text = ax.text(\n",
    "                    j + 0.3,\n",
    "                    i + 0.4,\n",
    "                    round(all_states_grid_value[i, j], 1),\n",
    "                    ha=\"left\",\n",
    "                    va=\"top\",\n",
    "                    color=\"w\",\n",
    "                    size=13,\n",
    "                )\n",
    "\n",
    "    plt.show()"
   ]
  },
  {
   "cell_type": "code",
   "execution_count": 23,
   "metadata": {},
   "outputs": [
    {
     "name": "stdout",
     "output_type": "stream",
     "text": [
      "0.5*v0 - 0.25*v1 - 0.25*v4 + 1.0 = 0\n",
      "-0.25*v0 + 0.5*v1 - 0.25*v5 + 1.0 = 0\n",
      "0.25*v3 - 0.25*v7 + 1.0 = 0\n",
      "-0.25*v0 + 0.75*v4 - 0.25*v5 - 0.25*v8 + 1.0 = 0\n",
      "-0.25*v1 - 0.25*v4 + 0.75*v5 - 0.25*v6 + 1.0 = 0\n",
      "-0.25*v10 - 0.25*v5 + 0.75*v6 - 0.25*v7 + 1.0 = 0\n",
      "-0.25*v3 - 0.25*v6 + 0.5*v7 + 1.0 = 0\n",
      "-0.25*v12 - 0.25*v4 + 0.5*v8 + 1.0 = 0\n",
      "0.5*v10 - 0.25*v14 - 0.25*v6 + 1.0 = 0\n",
      "0.25*v12 - 0.25*v8 + 1.0 = 0\n",
      "-0.25*v10 + 0.5*v14 + 0.5 = 0\n",
      " \n",
      "11 variables,  11 equations\n",
      " \n",
      "{'15': 0, '0': -154.000000000000, '1': -150.000000000000, '10': -82.0000000000000, '12': -166.000000000000, '14': -42.0000000000000, '3': -130.000000000000, '4': -154.000000000000, '5': -142.000000000000, '6': -118.000000000000, '7': -126.000000000000, '8': -162.000000000000}\n"
     ]
    }
   ],
   "source": [
    "# Run this block to see the set of equations and the solutions for your gridworld\n",
    "solutions = get_value_function(states, actions, policy, gamma)\n",
    "print(solutions)"
   ]
  },
  {
   "cell_type": "code",
   "execution_count": 24,
   "metadata": {
    "code_folding": [
     0
    ]
   },
   "outputs": [
    {
     "data": {
      "image/png": "[encoded data removed]",
      "text/plain": [
       "<Figure size 700x500 with 1 Axes>"
      ]
     },
     "metadata": {},
     "output_type": "display_data"
    }
   ],
   "source": [
    "%matplotlib inline\n",
    "# Run this cell to automatically generate the grid with the state-value function\n",
    "plot_gridworld_value_function(rows, columns, blocks, solutions)"
   ]
  },
  {
   "cell_type": "code",
   "execution_count": null,
   "metadata": {},
   "outputs": [],
   "source": []
  },
  {
   "cell_type": "code",
   "execution_count": null,
   "metadata": {},
   "outputs": [],
   "source": []
  }
 ],
 "metadata": {
  "kernelspec": {
   "display_name": "Python 3",
   "language": "python",
   "name": "python3"
  },
  "language_info": {
   "codemirror_mode": {
    "name": "ipython",
    "version": 3
   },
   "file_extension": ".py",
   "mimetype": "text/x-python",
   "name": "python",
   "nbconvert_exporter": "python",
   "pygments_lexer": "ipython3",
   "version": "3.10.14"
  },
  "latex_envs": {
   "LaTeX_envs_menu_present": true,
   "autoclose": false,
   "autocomplete": true,
   "bibliofile": "biblio.bib",
   "cite_by": "apalike",
   "current_citInitial": 1,
   "eqLabelWithNumbers": true,
   "eqNumInitial": 1,
   "hotkeys": {
    "equation": "Ctrl-E",
    "itemize": "Ctrl-I"
   },
   "labels_anchors": false,
   "latex_user_defs": false,
   "report_style_numbering": false,
   "user_envs_cfg": false
  }
 },
 "nbformat": 4,
 "nbformat_minor": 4
}
